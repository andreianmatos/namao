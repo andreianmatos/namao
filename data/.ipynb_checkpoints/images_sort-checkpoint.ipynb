{
 "cells": [
  {
   "cell_type": "code",
   "execution_count": 1,
   "id": "7688bd69-f6ef-43e9-a86d-f26507cee3e7",
   "metadata": {},
   "outputs": [
    {
     "name": "stdout",
     "output_type": "stream",
     "text": [
      "Requirement already satisfied: pillow in c:\\users\\anmatos\\appdata\\local\\anaconda3\\envs\\datafeed\\lib\\site-packages (10.4.0)\n",
      "Note: you may need to restart the kernel to use updated packages.\n"
     ]
    }
   ],
   "source": [
    "pip install pillow"
   ]
  },
  {
   "cell_type": "code",
   "execution_count": 18,
   "id": "7da3071d-4663-4848-b0ad-a0e0ea2bed2e",
   "metadata": {},
   "outputs": [],
   "source": [
    "import os\n",
    "import shutil\n",
    "from PIL import Image\n",
    "from PIL.ExifTags import TAGS\n",
    "import re\n",
    "import json"
   ]
  },
  {
   "cell_type": "markdown",
   "id": "4bab6262-a631-4cfd-859c-70e752e1f27e",
   "metadata": {},
   "source": [
    "### Criar a pasta divida por ano / categoria e renomeia as fotos com data_hora_categoria"
   ]
  },
  {
   "cell_type": "markdown",
   "id": "9d4d0f8b-eda2-4604-be5a-b30a16b5be81",
   "metadata": {},
   "source": [
    "def create_year_and_category_folders(output_folder):\n",
    "    \"\"\"\n",
    "    Cria as pastas de ano (2019 a 2025) e as pastas de categoria dentro de cada pasta de ano.\n",
    "    \"\"\"\n",
    "    for year in range(2019, 2026):\n",
    "        year_folder = os.path.join(output_folder, str(year))\n",
    "        if not os.path.exists(year_folder):\n",
    "            os.makedirs(year_folder)\n",
    "            print(f\"Created year folder: {year_folder}\")\n",
    "\n",
    "\n",
    "def extract_date_time_from_exif(image_path):\n",
    "    \"\"\"\n",
    "    Tenta extrair a data e hora dos metadados EXIF da imagem.\n",
    "    Retorna None se não encontrar a data e hora nos EXIF.\n",
    "    \"\"\"\n",
    "    try:\n",
    "        # Abre a imagem\n",
    "        image = Image.open(image_path)\n",
    "        exif_data = image._getexif()\n",
    "\n",
    "        # Verifica se há dados EXIF\n",
    "        if exif_data is not None:\n",
    "            # Busca pelas tags relevantes ('DateTime', 'DateTimeOriginal', 'DateTimeDigitized')\n",
    "            for tag, value in exif_data.items():\n",
    "                if TAGS.get(tag) in ['DateTime', 'DateTimeOriginal', 'DateTimeDigitized']:\n",
    "                    # O formato de data geralmente é 'YYYY:MM:DD HH:MM:SS'\n",
    "                    date_time = value.split(' ')\n",
    "                    date = date_time[0].replace(':', '_')\n",
    "                    time = date_time[1].replace(':', '_')\n",
    "                    return date, time\n",
    "        else:\n",
    "            print(f\"Imagem sem EXIF: {image_path}\")\n",
    "\n",
    "    except Exception as e:\n",
    "        print(f\"Erro ao extrair EXIF de {image_path}: {e}\")\n",
    "    \n",
    "    return None, None  # Retorna None se não encontrar a data e hora\n",
    "\n",
    "\n",
    "def process_images(input_folder, output_folder):\n",
    "    \"\"\"\n",
    "    Processa as imagens renomeando e organizando nas pastas de ano e categoria.\n",
    "    \"\"\"\n",
    "    # Cria pastas de ano (2019 a 2025)\n",
    "    create_year_and_category_folders(output_folder)\n",
    "\n",
    "    # Percorre cada pasta de categoria dentro do diretório de entrada (input_folder)\n",
    "    for category_folder in os.listdir(input_folder):\n",
    "        category_folder_path = os.path.join(input_folder, category_folder)\n",
    "\n",
    "        # Verifica se é uma pasta (categoria)\n",
    "        if os.path.isdir(category_folder_path):\n",
    "            print(f\"Processando categoria: {category_folder}\")\n",
    "\n",
    "            # Percorre cada imagem dentro da pasta de categoria\n",
    "            for filename in os.listdir(category_folder_path):\n",
    "                if filename.lower().endswith(('.png', '.jpg', '.jpeg', '.gif', '.bmp', '.tiff')):\n",
    "                    # Extrai a data e hora da imagem pelos metadados EXIF\n",
    "                    date, time = extract_date_time_from_exif(os.path.join(category_folder_path, filename))\n",
    "                    \n",
    "                    if not date:\n",
    "                        print(f\"Pulando '{filename}' porque não foi encontrada a data.\")\n",
    "                        continue  # Se não encontrar a data, pula essa imagem\n",
    "\n",
    "                    year = date.split('_')[0]\n",
    "\n",
    "                    # Cria a pasta de categoria dentro da pasta de ano\n",
    "                    year_folder = os.path.join(output_folder, str(year))\n",
    "                    category_output_folder = os.path.join(year_folder, category_folder)\n",
    "\n",
    "                    # Verifica se a pasta de categoria existe dentro do ano, caso contrário, cria\n",
    "                    if not os.path.exists(category_output_folder):\n",
    "                        os.makedirs(category_output_folder)\n",
    "                        print(f\"Created category folder: {category_output_folder}\")\n",
    "\n",
    "                    # Renomeia a imagem para o formato 'ano_mes_dia_hora_categoria'\n",
    "                    new_filename = f\"{date}_{time}_{category_folder}{os.path.splitext(filename)[1]}\"\n",
    "\n",
    "                    # Caminhos completos para a imagem original e para a nova imagem\n",
    "                    original_image_path = os.path.join(category_folder_path, filename)\n",
    "                    new_image_path = os.path.join(category_output_folder, new_filename)\n",
    "                    \n",
    "                    # Move e renomeia a imagem\n",
    "                    shutil.move(original_image_path, new_image_path)\n",
    "                    print(f\"Movido e renomeado '{filename}' para '{new_filename}' em '{category_output_folder}'\")\n",
    "\n",
    "    print(\"Processamento completo.\")"
   ]
  },
  {
   "cell_type": "code",
   "execution_count": 11,
   "id": "c7403374-580a-4108-862c-80d95ba01b58",
   "metadata": {},
   "outputs": [],
   "source": [
    "input_folder = \"imagens_rita\"\n",
    "output_folder = \"imagens_mao\""
   ]
  },
  {
   "cell_type": "code",
   "execution_count": 12,
   "id": "3ddb148f-dd92-4cf9-a8af-eba3fe592a7d",
   "metadata": {},
   "outputs": [
    {
     "ename": "FileNotFoundError",
     "evalue": "[WinError 3] The system cannot find the path specified: 'imagens_rita'",
     "output_type": "error",
     "traceback": [
      "\u001b[1;31m---------------------------------------------------------------------------\u001b[0m",
      "\u001b[1;31mFileNotFoundError\u001b[0m                         Traceback (most recent call last)",
      "Cell \u001b[1;32mIn[12], line 1\u001b[0m\n\u001b[1;32m----> 1\u001b[0m \u001b[43mprocess_images\u001b[49m\u001b[43m(\u001b[49m\u001b[43minput_folder\u001b[49m\u001b[43m,\u001b[49m\u001b[43m \u001b[49m\u001b[43moutput_folder\u001b[49m\u001b[43m)\u001b[49m\n",
      "Cell \u001b[1;32mIn[3], line 49\u001b[0m, in \u001b[0;36mprocess_images\u001b[1;34m(input_folder, output_folder)\u001b[0m\n\u001b[0;32m     46\u001b[0m create_year_and_category_folders(output_folder)\n\u001b[0;32m     48\u001b[0m \u001b[38;5;66;03m# Percorre cada pasta de categoria dentro do diretório de entrada (input_folder)\u001b[39;00m\n\u001b[1;32m---> 49\u001b[0m \u001b[38;5;28;01mfor\u001b[39;00m category_folder \u001b[38;5;129;01min\u001b[39;00m \u001b[43mos\u001b[49m\u001b[38;5;241;43m.\u001b[39;49m\u001b[43mlistdir\u001b[49m\u001b[43m(\u001b[49m\u001b[43minput_folder\u001b[49m\u001b[43m)\u001b[49m:\n\u001b[0;32m     50\u001b[0m     category_folder_path \u001b[38;5;241m=\u001b[39m os\u001b[38;5;241m.\u001b[39mpath\u001b[38;5;241m.\u001b[39mjoin(input_folder, category_folder)\n\u001b[0;32m     52\u001b[0m     \u001b[38;5;66;03m# Verifica se é uma pasta (categoria)\u001b[39;00m\n",
      "\u001b[1;31mFileNotFoundError\u001b[0m: [WinError 3] The system cannot find the path specified: 'imagens_rita'"
     ]
    }
   ],
   "source": [
    "process_images(input_folder, output_folder)"
   ]
  },
  {
   "cell_type": "markdown",
   "id": "b9e590d0-017e-420d-bcfa-71b16778c05f",
   "metadata": {},
   "source": [
    "### Criar dicionário para usar em js com fotos"
   ]
  },
  {
   "cell_type": "code",
   "execution_count": 16,
   "id": "525d4876-e96d-47d9-8bcf-6e238d434670",
   "metadata": {},
   "outputs": [],
   "source": [
    "def generate_photos_dictionary(output_folder):\n",
    "    \"\"\"\n",
    "    Gera um dicionário de caminhos de fotos organizados por ano e categoria.\n",
    "    \"\"\"\n",
    "    photos = {}\n",
    "\n",
    "    # Itera sobre cada pasta de ano (2019, 2020, etc.)\n",
    "    for year_folder in os.listdir(output_folder):\n",
    "        year_folder_path = os.path.join(output_folder, year_folder)\n",
    "\n",
    "        # Verifica se é uma pasta de ano\n",
    "        if os.path.isdir(year_folder_path):\n",
    "            photos[year_folder] = {}  # Inicializa o dicionário para o ano\n",
    "\n",
    "            # Itera sobre cada pasta de categoria dentro do ano\n",
    "            for category_folder in os.listdir(year_folder_path):\n",
    "                category_folder_path = os.path.join(year_folder_path, category_folder)\n",
    "\n",
    "                # Verifica se é uma pasta de categoria\n",
    "                if os.path.isdir(category_folder_path):\n",
    "                    # Inicializa uma lista para armazenar os caminhos das fotos da categoria\n",
    "                    photos[year_folder][category_folder] = []\n",
    "\n",
    "                    # Itera sobre cada arquivo de imagem dentro da categoria\n",
    "                    for filename in os.listdir(category_folder_path):\n",
    "                        # Verifica se é um arquivo de imagem pelos formatos comuns\n",
    "                        if filename.lower().endswith(('.png', '.jpg', '.jpeg', '.gif', '.bmp', '.tiff')):\n",
    "                            # Caminho completo para a imagem\n",
    "                            image_path = os.path.join(category_folder_path, filename)\n",
    "                            # Adiciona o caminho da imagem à lista da categoria\n",
    "                            photos[year_folder][category_folder].append(image_path)\n",
    "\n",
    "    return photos\n",
    "\n",
    "\n",
    "def save_photos_to_txt(photos, filename=\"photos.txt\"):\n",
    "    \"\"\"\n",
    "    Salva o dicionário de fotos em um arquivo .txt.\n",
    "    \"\"\"\n",
    "    with open(filename, \"w\") as file:\n",
    "        json.dump(photos, file, indent=4)\n",
    "    print(f\"Photos dictionary saved to {filename}\")"
   ]
  },
  {
   "cell_type": "code",
   "execution_count": 19,
   "id": "905a745e-4b3a-4cd5-ad57-022aa7217842",
   "metadata": {},
   "outputs": [
    {
     "name": "stdout",
     "output_type": "stream",
     "text": [
      "Photos dictionary saved to photos.txt\n"
     ]
    }
   ],
   "source": [
    "photos_dict = generate_photos_dictionary(output_folder)\n",
    "save_photos_to_txt(photos_dict)"
   ]
  },
  {
   "cell_type": "code",
   "execution_count": null,
   "id": "6527b4bb-612a-4abb-9659-7eaa483aec33",
   "metadata": {},
   "outputs": [],
   "source": []
  }
 ],
 "metadata": {
  "kernelspec": {
   "display_name": "Python 3 (ipykernel)",
   "language": "python",
   "name": "python3"
  },
  "language_info": {
   "codemirror_mode": {
    "name": "ipython",
    "version": 3
   },
   "file_extension": ".py",
   "mimetype": "text/x-python",
   "name": "python",
   "nbconvert_exporter": "python",
   "pygments_lexer": "ipython3",
   "version": "3.9.20"
  }
 },
 "nbformat": 4,
 "nbformat_minor": 5
}
